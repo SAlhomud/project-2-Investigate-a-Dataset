{
 "cells": [
  {
   "cell_type": "markdown",
   "metadata": {},
   "source": [
    "\n",
    "\n",
    "# Project: Investigate a Dataset (Medical Appointment No Shows)\n",
    "\n",
    "## Table of Contents\n",
    "<ul>\n",
    "<li><a href=\"#intro\">Introduction</a></li>\n",
    "<li><a href=\"#wrangling\">Data Wrangling</a></li>\n",
    "<li><a href=\"#eda\">Exploratory Data Analysis</a></li>\n",
    "<li><a href=\"#conclusions\">Conclusions</a></li>\n",
    "</ul>"
   ]
  },
  {
   "cell_type": "markdown",
   "metadata": {},
   "source": [
    "<a id='intro'></a>\n",
    "## Part 1: Introduction\n",
    "\n",
    "I select: [No-show appointments](https://d17h27t6h515a5.cloudfront.net/topher/2017/October/59dd2e9a_noshowappointments-kagglev2-may-2016/noshowappointments-kagglev2-may-2016.csv) dataset which includes information about more than 100k medical appointments collect in prazil and the main focuse is \"wether patient show-up for their appointments or not\".\n",
    "\n",
    "There are many attribute in this dataset describe characteristics about the patient as mentioned below:\n",
    "\n",
    "- **`PatientId`**: its the patient ID; duplicated values may happen in case the same patient booked many appointments.\n",
    "- **`AppointmentID`**: it indicates the appoint ID, each appontment must have a uniqe ID.\n",
    "- **`Gender`**: its the patient's gender either (Female, Male). It has been noticed that Female has the higher proportion, they  takes care of their health more than Male.   \n",
    "- **`scheduled_day`**:The Date\\Time of the actuall appointment, when they have to visit the doctor. \n",
    "- **`appointment_day`**:  indicates the Date/Time the patient called or registered the appointment, and this is done before the appointment of course\n",
    "- **`Age`**: indicates how old is the patient.\n",
    "- **`Neighborhood`**: is the location of the hospital where the appointments take a place.\n",
    "\n",
    "The following Attributes is answering question :\n",
    "- **`Scholarship`**: is the patient enrolled in Brasilian welfare program Bolsa Família?. For more information visit https://en.wikipedia.org/wiki/Bolsa_Fam%C3%ADlia\n",
    "- **`Hipertension`**: is the patient experiencing Hypertension ?\n",
    "- **`Diabetes`**: is the patient experiencing Diabetes?\n",
    "- **`Alcoholism`**:is the patient experiencing Alcoholism?\n",
    "- **`Handcap`**: is the patient with special needs?\n",
    "- **`SMS_received`**: is the patient receive a  text message-reminder?\n",
    "- **`Show-up`**:Is the patient did not show up? The anser will be \"YES\" and \"No\" if the patient showed up to their appointment.\n",
    "\n",
    "In this Report I will discuss 5 quesions :\n",
    "\n",
    "\n",
    "Research Question 1 (Is the medical Condition affect Patients arrival  ?)\n",
    "\n",
    "\n",
    "Research Question 2  (Are Female care about their health more than Male ? Are they show-up for their appointments more than men ? )\n",
    "\n",
    "\n",
    "Research Question 3  (Are the Scholarship funds influence the patient show-up ?)\n",
    "\n",
    "\n",
    "Research Question 4 (Does the age impact the patient presence for their Appointments?)\n",
    "\n",
    "\n",
    "Research Question 5 ( Is receiving SMS reminder has relationship with the patient Absence?)\n",
    "\n",
    "\n",
    "\n"
   ]
  },
  {
   "cell_type": "code",
   "execution_count": 5,
   "metadata": {},
   "outputs": [],
   "source": [
    "# First , I will write all the pakages I need in order to make my work more efficient.\n",
    "\n",
    "import pandas as pd\n",
    "import numpy as np\n",
    "import matplotlib.pyplot as plt\n",
    "import seaborn as sns\n",
    "\n",
    "%matplotlib inline\n"
   ]
  },
  {
   "cell_type": "markdown",
   "metadata": {},
   "source": [
    "<a id='wrangling'></a>\n",
    "## Part 2 : Data Wrangling\n",
    "\n",
    "> In this stage of work , we **assess the data** to identify any problems in the data’s quality or structure, and \n",
    "then ***clean the data *** by modifying, replacing, or removing data to ensure that the dataset is of the highest quality and as well-structured as possible.\n",
    "### 2.1 General Properties"
   ]
  },
  {
   "cell_type": "code",
   "execution_count": 6,
   "metadata": {},
   "outputs": [
    {
     "data": {
      "text/html": [
       "<div>\n",
       "<style scoped>\n",
       "    .dataframe tbody tr th:only-of-type {\n",
       "        vertical-align: middle;\n",
       "    }\n",
       "\n",
       "    .dataframe tbody tr th {\n",
       "        vertical-align: top;\n",
       "    }\n",
       "\n",
       "    .dataframe thead th {\n",
       "        text-align: right;\n",
       "    }\n",
       "</style>\n",
       "<table border=\"1\" class=\"dataframe\">\n",
       "  <thead>\n",
       "    <tr style=\"text-align: right;\">\n",
       "      <th></th>\n",
       "      <th>PatientId</th>\n",
       "      <th>AppointmentID</th>\n",
       "      <th>Gender</th>\n",
       "      <th>ScheduledDay</th>\n",
       "      <th>AppointmentDay</th>\n",
       "      <th>Age</th>\n",
       "      <th>Neighbourhood</th>\n",
       "      <th>Scholarship</th>\n",
       "      <th>Hipertension</th>\n",
       "      <th>Diabetes</th>\n",
       "      <th>Alcoholism</th>\n",
       "      <th>Handcap</th>\n",
       "      <th>SMS_received</th>\n",
       "      <th>No-show</th>\n",
       "    </tr>\n",
       "  </thead>\n",
       "  <tbody>\n",
       "    <tr>\n",
       "      <th>0</th>\n",
       "      <td>2.987250e+13</td>\n",
       "      <td>5642903</td>\n",
       "      <td>F</td>\n",
       "      <td>2016-04-29T18:38:08Z</td>\n",
       "      <td>2016-04-29T00:00:00Z</td>\n",
       "      <td>62</td>\n",
       "      <td>JARDIM DA PENHA</td>\n",
       "      <td>0</td>\n",
       "      <td>1</td>\n",
       "      <td>0</td>\n",
       "      <td>0</td>\n",
       "      <td>0</td>\n",
       "      <td>0</td>\n",
       "      <td>No</td>\n",
       "    </tr>\n",
       "    <tr>\n",
       "      <th>1</th>\n",
       "      <td>5.589978e+14</td>\n",
       "      <td>5642503</td>\n",
       "      <td>M</td>\n",
       "      <td>2016-04-29T16:08:27Z</td>\n",
       "      <td>2016-04-29T00:00:00Z</td>\n",
       "      <td>56</td>\n",
       "      <td>JARDIM DA PENHA</td>\n",
       "      <td>0</td>\n",
       "      <td>0</td>\n",
       "      <td>0</td>\n",
       "      <td>0</td>\n",
       "      <td>0</td>\n",
       "      <td>0</td>\n",
       "      <td>No</td>\n",
       "    </tr>\n",
       "  </tbody>\n",
       "</table>\n",
       "</div>"
      ],
      "text/plain": [
       "      PatientId  AppointmentID Gender          ScheduledDay  \\\n",
       "0  2.987250e+13        5642903      F  2016-04-29T18:38:08Z   \n",
       "1  5.589978e+14        5642503      M  2016-04-29T16:08:27Z   \n",
       "\n",
       "         AppointmentDay  Age    Neighbourhood  Scholarship  Hipertension  \\\n",
       "0  2016-04-29T00:00:00Z   62  JARDIM DA PENHA            0             1   \n",
       "1  2016-04-29T00:00:00Z   56  JARDIM DA PENHA            0             0   \n",
       "\n",
       "   Diabetes  Alcoholism  Handcap  SMS_received No-show  \n",
       "0         0           0        0             0      No  \n",
       "1         0           0        0             0      No  "
      ]
     },
     "execution_count": 6,
     "metadata": {},
     "output_type": "execute_result"
    }
   ],
   "source": [
    "# I will load my data and make sure its work by using \"head\"to print two line of my dataset.\n",
    "\n",
    "df = pd.read_csv('noshowappointments-kagglev2-may-2016.csv')\n",
    "df.head(2)"
   ]
  },
  {
   "cell_type": "code",
   "execution_count": 7,
   "metadata": {},
   "outputs": [
    {
     "data": {
      "text/plain": [
       "(110527, 14)"
      ]
     },
     "execution_count": 7,
     "metadata": {},
     "output_type": "execute_result"
    }
   ],
   "source": [
    "#I used shape to find out the number of rows and columns.The dataset includes 14 columns and 110527 data rows.\n",
    "df.shape"
   ]
  },
  {
   "cell_type": "code",
   "execution_count": 8,
   "metadata": {},
   "outputs": [
    {
     "data": {
      "text/html": [
       "<div>\n",
       "<style scoped>\n",
       "    .dataframe tbody tr th:only-of-type {\n",
       "        vertical-align: middle;\n",
       "    }\n",
       "\n",
       "    .dataframe tbody tr th {\n",
       "        vertical-align: top;\n",
       "    }\n",
       "\n",
       "    .dataframe thead th {\n",
       "        text-align: right;\n",
       "    }\n",
       "</style>\n",
       "<table border=\"1\" class=\"dataframe\">\n",
       "  <thead>\n",
       "    <tr style=\"text-align: right;\">\n",
       "      <th></th>\n",
       "      <th>PatientId</th>\n",
       "      <th>AppointmentID</th>\n",
       "      <th>Age</th>\n",
       "      <th>Scholarship</th>\n",
       "      <th>Hipertension</th>\n",
       "      <th>Diabetes</th>\n",
       "      <th>Alcoholism</th>\n",
       "      <th>Handcap</th>\n",
       "      <th>SMS_received</th>\n",
       "    </tr>\n",
       "  </thead>\n",
       "  <tbody>\n",
       "    <tr>\n",
       "      <th>count</th>\n",
       "      <td>1.105270e+05</td>\n",
       "      <td>1.105270e+05</td>\n",
       "      <td>110527.000000</td>\n",
       "      <td>110527.000000</td>\n",
       "      <td>110527.000000</td>\n",
       "      <td>110527.000000</td>\n",
       "      <td>110527.000000</td>\n",
       "      <td>110527.000000</td>\n",
       "      <td>110527.000000</td>\n",
       "    </tr>\n",
       "    <tr>\n",
       "      <th>mean</th>\n",
       "      <td>1.474963e+14</td>\n",
       "      <td>5.675305e+06</td>\n",
       "      <td>37.088874</td>\n",
       "      <td>0.098266</td>\n",
       "      <td>0.197246</td>\n",
       "      <td>0.071865</td>\n",
       "      <td>0.030400</td>\n",
       "      <td>0.022248</td>\n",
       "      <td>0.321026</td>\n",
       "    </tr>\n",
       "    <tr>\n",
       "      <th>std</th>\n",
       "      <td>2.560949e+14</td>\n",
       "      <td>7.129575e+04</td>\n",
       "      <td>23.110205</td>\n",
       "      <td>0.297675</td>\n",
       "      <td>0.397921</td>\n",
       "      <td>0.258265</td>\n",
       "      <td>0.171686</td>\n",
       "      <td>0.161543</td>\n",
       "      <td>0.466873</td>\n",
       "    </tr>\n",
       "    <tr>\n",
       "      <th>min</th>\n",
       "      <td>3.921784e+04</td>\n",
       "      <td>5.030230e+06</td>\n",
       "      <td>-1.000000</td>\n",
       "      <td>0.000000</td>\n",
       "      <td>0.000000</td>\n",
       "      <td>0.000000</td>\n",
       "      <td>0.000000</td>\n",
       "      <td>0.000000</td>\n",
       "      <td>0.000000</td>\n",
       "    </tr>\n",
       "    <tr>\n",
       "      <th>25%</th>\n",
       "      <td>4.172614e+12</td>\n",
       "      <td>5.640286e+06</td>\n",
       "      <td>18.000000</td>\n",
       "      <td>0.000000</td>\n",
       "      <td>0.000000</td>\n",
       "      <td>0.000000</td>\n",
       "      <td>0.000000</td>\n",
       "      <td>0.000000</td>\n",
       "      <td>0.000000</td>\n",
       "    </tr>\n",
       "    <tr>\n",
       "      <th>50%</th>\n",
       "      <td>3.173184e+13</td>\n",
       "      <td>5.680573e+06</td>\n",
       "      <td>37.000000</td>\n",
       "      <td>0.000000</td>\n",
       "      <td>0.000000</td>\n",
       "      <td>0.000000</td>\n",
       "      <td>0.000000</td>\n",
       "      <td>0.000000</td>\n",
       "      <td>0.000000</td>\n",
       "    </tr>\n",
       "    <tr>\n",
       "      <th>75%</th>\n",
       "      <td>9.439172e+13</td>\n",
       "      <td>5.725524e+06</td>\n",
       "      <td>55.000000</td>\n",
       "      <td>0.000000</td>\n",
       "      <td>0.000000</td>\n",
       "      <td>0.000000</td>\n",
       "      <td>0.000000</td>\n",
       "      <td>0.000000</td>\n",
       "      <td>1.000000</td>\n",
       "    </tr>\n",
       "    <tr>\n",
       "      <th>max</th>\n",
       "      <td>9.999816e+14</td>\n",
       "      <td>5.790484e+06</td>\n",
       "      <td>115.000000</td>\n",
       "      <td>1.000000</td>\n",
       "      <td>1.000000</td>\n",
       "      <td>1.000000</td>\n",
       "      <td>1.000000</td>\n",
       "      <td>4.000000</td>\n",
       "      <td>1.000000</td>\n",
       "    </tr>\n",
       "  </tbody>\n",
       "</table>\n",
       "</div>"
      ],
      "text/plain": [
       "          PatientId  AppointmentID            Age    Scholarship  \\\n",
       "count  1.105270e+05   1.105270e+05  110527.000000  110527.000000   \n",
       "mean   1.474963e+14   5.675305e+06      37.088874       0.098266   \n",
       "std    2.560949e+14   7.129575e+04      23.110205       0.297675   \n",
       "min    3.921784e+04   5.030230e+06      -1.000000       0.000000   \n",
       "25%    4.172614e+12   5.640286e+06      18.000000       0.000000   \n",
       "50%    3.173184e+13   5.680573e+06      37.000000       0.000000   \n",
       "75%    9.439172e+13   5.725524e+06      55.000000       0.000000   \n",
       "max    9.999816e+14   5.790484e+06     115.000000       1.000000   \n",
       "\n",
       "        Hipertension       Diabetes     Alcoholism        Handcap  \\\n",
       "count  110527.000000  110527.000000  110527.000000  110527.000000   \n",
       "mean        0.197246       0.071865       0.030400       0.022248   \n",
       "std         0.397921       0.258265       0.171686       0.161543   \n",
       "min         0.000000       0.000000       0.000000       0.000000   \n",
       "25%         0.000000       0.000000       0.000000       0.000000   \n",
       "50%         0.000000       0.000000       0.000000       0.000000   \n",
       "75%         0.000000       0.000000       0.000000       0.000000   \n",
       "max         1.000000       1.000000       1.000000       4.000000   \n",
       "\n",
       "        SMS_received  \n",
       "count  110527.000000  \n",
       "mean        0.321026  \n",
       "std         0.466873  \n",
       "min         0.000000  \n",
       "25%         0.000000  \n",
       "50%         0.000000  \n",
       "75%         1.000000  \n",
       "max         1.000000  "
      ]
     },
     "execution_count": 8,
     "metadata": {},
     "output_type": "execute_result"
    }
   ],
   "source": [
    "#Describe() give us full statistics about the quantitive columns \n",
    "df.describe()"
   ]
  },
  {
   "cell_type": "code",
   "execution_count": 9,
   "metadata": {},
   "outputs": [
    {
     "name": "stdout",
     "output_type": "stream",
     "text": [
      "<class 'pandas.core.frame.DataFrame'>\n",
      "RangeIndex: 110527 entries, 0 to 110526\n",
      "Data columns (total 14 columns):\n",
      " #   Column          Non-Null Count   Dtype  \n",
      "---  ------          --------------   -----  \n",
      " 0   PatientId       110527 non-null  float64\n",
      " 1   AppointmentID   110527 non-null  int64  \n",
      " 2   Gender          110527 non-null  object \n",
      " 3   ScheduledDay    110527 non-null  object \n",
      " 4   AppointmentDay  110527 non-null  object \n",
      " 5   Age             110527 non-null  int64  \n",
      " 6   Neighbourhood   110527 non-null  object \n",
      " 7   Scholarship     110527 non-null  int64  \n",
      " 8   Hipertension    110527 non-null  int64  \n",
      " 9   Diabetes        110527 non-null  int64  \n",
      " 10  Alcoholism      110527 non-null  int64  \n",
      " 11  Handcap         110527 non-null  int64  \n",
      " 12  SMS_received    110527 non-null  int64  \n",
      " 13  No-show         110527 non-null  object \n",
      "dtypes: float64(1), int64(8), object(5)\n",
      "memory usage: 11.8+ MB\n"
     ]
    }
   ],
   "source": [
    "# I used info() to have full information about the data types, number of non-null values\n",
    "\n",
    "df.info()"
   ]
  },
  {
   "cell_type": "markdown",
   "metadata": {},
   "source": [
    "From the result we can say there is no missing data all has unique 110527 entries\n",
    "\n",
    "I may adjust some data type, for example: \n",
    "scheduled_day , appointment_day is data\\time type not a float .\n",
    "For PatientID it's better if its \"int\" not float , and for memory space as well.\n",
    "-**It will be fixed later in cleaning process**\n"
   ]
  },
  {
   "cell_type": "markdown",
   "metadata": {},
   "source": [
    "#### Check Duplicate Values"
   ]
  },
  {
   "cell_type": "code",
   "execution_count": 10,
   "metadata": {},
   "outputs": [
    {
     "data": {
      "text/plain": [
       "0"
      ]
     },
     "execution_count": 10,
     "metadata": {},
     "output_type": "execute_result"
    }
   ],
   "source": [
    "# now I will Check if there is any duplicated rows \n",
    "df.duplicated().sum()"
   ]
  },
  {
   "cell_type": "code",
   "execution_count": 11,
   "metadata": {},
   "outputs": [
    {
     "data": {
      "text/plain": [
       "0"
      ]
     },
     "execution_count": 11,
     "metadata": {},
     "output_type": "execute_result"
    }
   ],
   "source": [
    "# As I mention earlier , the appointmentID should be unique .\n",
    "# So I will check if it has duplicated value.\n",
    "\n",
    "sum(df.AppointmentID.duplicated())"
   ]
  },
  {
   "cell_type": "markdown",
   "metadata": {},
   "source": [
    "The result above shows no duplicates in the AppointmentID column."
   ]
  },
  {
   "cell_type": "code",
   "execution_count": 12,
   "metadata": {},
   "outputs": [
    {
     "data": {
      "text/plain": [
       "48228"
      ]
     },
     "execution_count": 12,
     "metadata": {},
     "output_type": "execute_result"
    }
   ],
   "source": [
    "\n",
    "sum(df.PatientId.duplicated())"
   ]
  },
  {
   "cell_type": "markdown",
   "metadata": {},
   "source": [
    "The result shows there is repeated number of PatientID.\n",
    "It means that there are patients booked many appointments"
   ]
  },
  {
   "cell_type": "code",
   "execution_count": 13,
   "metadata": {},
   "outputs": [
    {
     "data": {
      "text/plain": [
       "8.221459e+14    88\n",
       "9.963767e+10    84\n",
       "2.688613e+13    70\n",
       "3.353478e+13    65\n",
       "2.584244e+11    62\n",
       "Name: PatientId, dtype: int64"
      ]
     },
     "execution_count": 13,
     "metadata": {},
     "output_type": "execute_result"
    }
   ],
   "source": [
    "# lets found out the top 5 patients along with number of appoitments they booked.\n",
    "\n",
    "df.PatientId.value_counts().head(5)"
   ]
  },
  {
   "cell_type": "markdown",
   "metadata": {},
   "source": [
    "We may relay in AppointmentId rather than patintID in the analysis process\n",
    "; however, that doesn't mean ignoring the patientID,where applicable we will use the reference number of patients, , to help identify any corrolation between specific patterns and the diversity of the studied group(s)."
   ]
  },
  {
   "cell_type": "markdown",
   "metadata": {},
   "source": [
    "#### Check the validity of the data \"Free of Error\""
   ]
  },
  {
   "cell_type": "code",
   "execution_count": 14,
   "metadata": {},
   "outputs": [
    {
     "data": {
      "text/plain": [
       "Series([], Name: AppointmentID, dtype: int64)"
      ]
     },
     "execution_count": 14,
     "metadata": {},
     "output_type": "execute_result"
    }
   ],
   "source": [
    "# Check if there is zero/negative in AppointmentID\n",
    "\n",
    "df[df.AppointmentID < 0]['AppointmentID']"
   ]
  },
  {
   "cell_type": "code",
   "execution_count": 15,
   "metadata": {},
   "outputs": [
    {
     "data": {
      "text/plain": [
       "Series([], Name: PatientId, dtype: float64)"
      ]
     },
     "execution_count": 15,
     "metadata": {},
     "output_type": "execute_result"
    }
   ],
   "source": [
    "# Check if there is zero/negative in PatientId\n",
    "\n",
    "df[df.PatientId <= 0]['PatientId']"
   ]
  },
  {
   "cell_type": "code",
   "execution_count": 16,
   "metadata": {},
   "outputs": [
    {
     "name": "stdout",
     "output_type": "stream",
     "text": [
      "Gender:-> ['F' 'M']\n",
      "Diabetes:->  [0 1]\n",
      "Alcoholism:->  [0 1]\n",
      "Hypertension:->  [1 0]\n",
      "Handicap:->  [0 1 2 3 4]\n",
      "Scholarship:->  [0 1]\n",
      "SMS Received:->  [0 1]\n"
     ]
    }
   ],
   "source": [
    "# Make sure the dataset contain uniqe value and there is no unwanted one.\n",
    "\n",
    "print('Gender:->',df.Gender.unique())\n",
    "print('Diabetes:-> ',df.Diabetes.unique())\n",
    "print('Alcoholism:-> ',df.Alcoholism.unique())\n",
    "print('Hypertension:-> ',df.Hipertension.unique())\n",
    "print('Handicap:-> ',df.Handcap.unique())\n",
    "print('Scholarship:-> ',df.Scholarship.unique())\n",
    "print('SMS Received:-> ',df.SMS_received.unique())\n"
   ]
  },
  {
   "cell_type": "code",
   "execution_count": 17,
   "metadata": {
    "scrolled": true
   },
   "outputs": [
    {
     "name": "stdout",
     "output_type": "stream",
     "text": [
      "Age:->  [-1, 0, 1, 2, 3, 4, 5, 6, 7, 8, 9, 10, 11, 12, 13, 14, 15, 16, 17, 18, 19, 20, 21, 22, 23, 24, 25, 26, 27, 28, 29, 30, 31, 32, 33, 34, 35, 36, 37, 38, 39, 40, 41, 42, 43, 44, 45, 46, 47, 48, 49, 50, 51, 52, 53, 54, 55, 56, 57, 58, 59, 60, 61, 62, 63, 64, 65, 66, 67, 68, 69, 70, 71, 72, 73, 74, 75, 76, 77, 78, 79, 80, 81, 82, 83, 84, 85, 86, 87, 88, 89, 90, 91, 92, 93, 94, 95, 96, 97, 98, 99, 100, 102, 115]\n"
     ]
    }
   ],
   "source": [
    "print('Age:-> ',sorted(df.Age.unique()))"
   ]
  },
  {
   "cell_type": "code",
   "execution_count": 18,
   "metadata": {},
   "outputs": [
    {
     "data": {
      "text/plain": [
       "99832   -1\n",
       "Name: Age, dtype: int64"
      ]
     },
     "execution_count": 18,
     "metadata": {},
     "output_type": "execute_result"
    }
   ],
   "source": [
    "# Show the column with negative values \n",
    "\n",
    "df[df.Age < 0]['Age']"
   ]
  },
  {
   "cell_type": "markdown",
   "metadata": {},
   "source": [
    "It noticed that the age has **negative value** , and the dataset documention not mention anything about it.\n",
    "There are many possiblities : The patient could be a fetus not been born yet , or it might be a mistake.\n",
    "To be save since its one record , I am going to exclude it from the analysis.\n",
    "And I will keep **the Zeros** which represent the new born babies.\n",
    "\n",
    "Moreover, there is ages gap between 102-115 which is weird , we will look at that later."
   ]
  },
  {
   "cell_type": "code",
   "execution_count": 19,
   "metadata": {},
   "outputs": [
    {
     "data": {
      "text/plain": [
       "PatientId         0\n",
       "AppointmentID     0\n",
       "Gender            0\n",
       "ScheduledDay      0\n",
       "AppointmentDay    0\n",
       "Age               0\n",
       "Neighbourhood     0\n",
       "Scholarship       0\n",
       "Hipertension      0\n",
       "Diabetes          0\n",
       "Alcoholism        0\n",
       "Handcap           0\n",
       "SMS_received      0\n",
       "No-show           0\n",
       "dtype: int64"
      ]
     },
     "execution_count": 19,
     "metadata": {},
     "output_type": "execute_result"
    }
   ],
   "source": [
    "#Double Cheack if there is any null value\n",
    "df.isnull().sum()"
   ]
  },
  {
   "cell_type": "markdown",
   "metadata": {},
   "source": [
    "\n",
    "\n",
    "### 2.2 Data Cleaning process\n",
    "> After discussing the structure of the data and any problems that need to be clean process take place.\n",
    "In this stage , I will Drop non-important column, rename column name & replace no_show data.\n",
    "change some data type. Make sure at the end the dataset ready for analysis."
   ]
  },
  {
   "cell_type": "code",
   "execution_count": 20,
   "metadata": {},
   "outputs": [
    {
     "data": {
      "text/html": [
       "<div>\n",
       "<style scoped>\n",
       "    .dataframe tbody tr th:only-of-type {\n",
       "        vertical-align: middle;\n",
       "    }\n",
       "\n",
       "    .dataframe tbody tr th {\n",
       "        vertical-align: top;\n",
       "    }\n",
       "\n",
       "    .dataframe thead th {\n",
       "        text-align: right;\n",
       "    }\n",
       "</style>\n",
       "<table border=\"1\" class=\"dataframe\">\n",
       "  <thead>\n",
       "    <tr style=\"text-align: right;\">\n",
       "      <th></th>\n",
       "      <th>patientid</th>\n",
       "      <th>appointmentid</th>\n",
       "      <th>gender</th>\n",
       "      <th>scheduledday</th>\n",
       "      <th>appointmentday</th>\n",
       "      <th>age</th>\n",
       "      <th>neighbourhood</th>\n",
       "      <th>scholarship</th>\n",
       "      <th>hipertension</th>\n",
       "      <th>diabetes</th>\n",
       "      <th>alcoholism</th>\n",
       "      <th>handcap</th>\n",
       "      <th>sms_received</th>\n",
       "      <th>no-show</th>\n",
       "    </tr>\n",
       "  </thead>\n",
       "  <tbody>\n",
       "    <tr>\n",
       "      <th>0</th>\n",
       "      <td>2.987250e+13</td>\n",
       "      <td>5642903</td>\n",
       "      <td>F</td>\n",
       "      <td>2016-04-29T18:38:08Z</td>\n",
       "      <td>2016-04-29T00:00:00Z</td>\n",
       "      <td>62</td>\n",
       "      <td>JARDIM DA PENHA</td>\n",
       "      <td>0</td>\n",
       "      <td>1</td>\n",
       "      <td>0</td>\n",
       "      <td>0</td>\n",
       "      <td>0</td>\n",
       "      <td>0</td>\n",
       "      <td>No</td>\n",
       "    </tr>\n",
       "    <tr>\n",
       "      <th>1</th>\n",
       "      <td>5.589978e+14</td>\n",
       "      <td>5642503</td>\n",
       "      <td>M</td>\n",
       "      <td>2016-04-29T16:08:27Z</td>\n",
       "      <td>2016-04-29T00:00:00Z</td>\n",
       "      <td>56</td>\n",
       "      <td>JARDIM DA PENHA</td>\n",
       "      <td>0</td>\n",
       "      <td>0</td>\n",
       "      <td>0</td>\n",
       "      <td>0</td>\n",
       "      <td>0</td>\n",
       "      <td>0</td>\n",
       "      <td>No</td>\n",
       "    </tr>\n",
       "  </tbody>\n",
       "</table>\n",
       "</div>"
      ],
      "text/plain": [
       "      patientid  appointmentid gender          scheduledday  \\\n",
       "0  2.987250e+13        5642903      F  2016-04-29T18:38:08Z   \n",
       "1  5.589978e+14        5642503      M  2016-04-29T16:08:27Z   \n",
       "\n",
       "         appointmentday  age    neighbourhood  scholarship  hipertension  \\\n",
       "0  2016-04-29T00:00:00Z   62  JARDIM DA PENHA            0             1   \n",
       "1  2016-04-29T00:00:00Z   56  JARDIM DA PENHA            0             0   \n",
       "\n",
       "   diabetes  alcoholism  handcap  sms_received no-show  \n",
       "0         0           0        0             0      No  \n",
       "1         0           0        0             0      No  "
      ]
     },
     "execution_count": 20,
     "metadata": {},
     "output_type": "execute_result"
    }
   ],
   "source": [
    "# For best practice Im going to convert all the columns to lower case letter\n",
    "# I print two line to see the changes\n",
    "\n",
    "df.rename(columns=lambda x: x.strip().lower(), inplace=True)\n",
    "df.head(2)"
   ]
  },
  {
   "cell_type": "code",
   "execution_count": 21,
   "metadata": {},
   "outputs": [],
   "source": [
    "# First , Rename some of the column that Contain spelling mistakes or in the format\n",
    "# I Will use \"inplace \" so, the changes made in the original dataset\n",
    "df.rename(columns = {'patientid': 'patient_id','appointmentday':'appointment_id','scheduledday':'scheduled_day', 'appointmentday':'appointment_day'},inplace=True)\n",
    "df.rename(columns = {'hipertension': 'hypertension','handcap': 'handicap','no-show':'attendance', 'neighbourhood':'neighborhood'},inplace = True)\n"
   ]
  },
  {
   "cell_type": "code",
   "execution_count": 22,
   "metadata": {},
   "outputs": [
    {
     "name": "stdout",
     "output_type": "stream",
     "text": [
      "Index(['patient_id', 'appointmentid', 'gender', 'scheduled_day',\n",
      "       'appointment_day', 'age', 'neighborhood', 'scholarship', 'hypertension',\n",
      "       'diabetes', 'alcoholism', 'handicap', 'sms_received', 'attendance'],\n",
      "      dtype='object')\n"
     ]
    }
   ],
   "source": [
    "print(df.columns)"
   ]
  },
  {
   "cell_type": "markdown",
   "metadata": {},
   "source": [
    "#### Change the Data Type of some Columns "
   ]
  },
  {
   "cell_type": "code",
   "execution_count": 23,
   "metadata": {},
   "outputs": [],
   "source": [
    "# change the PatientID to int\n",
    "df['patient_id'] = (df['patient_id']).astype('int64')"
   ]
  },
  {
   "cell_type": "code",
   "execution_count": 24,
   "metadata": {},
   "outputs": [],
   "source": [
    "#change the Appointment and ScheduleDay to date-time , \n",
    "#sice the time of appointment_day is 000, it will be remove directly\n",
    "\n",
    "df.appointment_day = df.appointment_day.apply(np.datetime64)\n",
    "df.scheduled_day   = df.scheduled_day.apply(np.datetime64)\n"
   ]
  },
  {
   "cell_type": "code",
   "execution_count": 25,
   "metadata": {},
   "outputs": [
    {
     "name": "stdout",
     "output_type": "stream",
     "text": [
      "<class 'pandas.core.frame.DataFrame'>\n",
      "RangeIndex: 110527 entries, 0 to 110526\n",
      "Data columns (total 14 columns):\n",
      " #   Column           Non-Null Count   Dtype         \n",
      "---  ------           --------------   -----         \n",
      " 0   patient_id       110527 non-null  int64         \n",
      " 1   appointmentid    110527 non-null  int64         \n",
      " 2   gender           110527 non-null  object        \n",
      " 3   scheduled_day    110527 non-null  datetime64[ns]\n",
      " 4   appointment_day  110527 non-null  datetime64[ns]\n",
      " 5   age              110527 non-null  int64         \n",
      " 6   neighborhood     110527 non-null  object        \n",
      " 7   scholarship      110527 non-null  int64         \n",
      " 8   hypertension     110527 non-null  int64         \n",
      " 9   diabetes         110527 non-null  int64         \n",
      " 10  alcoholism       110527 non-null  int64         \n",
      " 11  handicap         110527 non-null  int64         \n",
      " 12  sms_received     110527 non-null  int64         \n",
      " 13  attendance       110527 non-null  object        \n",
      "dtypes: datetime64[ns](2), int64(9), object(3)\n",
      "memory usage: 11.8+ MB\n"
     ]
    }
   ],
   "source": [
    "#check the data types\n",
    "df.info()"
   ]
  },
  {
   "cell_type": "code",
   "execution_count": 26,
   "metadata": {},
   "outputs": [],
   "source": [
    "# I will include the age b\\w 0 to 102.\n",
    "# Drop the age rows that less than 0 and greater than 102\n",
    "df.drop(df[(df.age < 0) | (df.age > 102)].index, inplace=True)\n"
   ]
  },
  {
   "cell_type": "code",
   "execution_count": 27,
   "metadata": {},
   "outputs": [
    {
     "data": {
      "text/plain": [
       "array(['Present', 'Absent'], dtype=object)"
      ]
     },
     "execution_count": 27,
     "metadata": {},
     "output_type": "execute_result"
    }
   ],
   "source": [
    "#For better understanding ,I will Replace No = Present and Yes = Absent as the dataset stated \n",
    "df['attendance'].replace({'No':'Present', 'Yes':'Absent'}, inplace=True)\n",
    "df['attendance'].unique() # the replacement done successfuly"
   ]
  },
  {
   "cell_type": "markdown",
   "metadata": {},
   "source": [
    "# Part 3: Exploratory Data Analysis##"
   ]
  },
  {
   "cell_type": "markdown",
   "metadata": {},
   "source": [
    " <a id='eda'></a>\n",
    "> Exploring involves finding patterns in the data, visualizing relationships in the data, and building intuition about what you’re working with. After exploring, remove outliers and create better features from your data, also known as feature engineering.\n",
    "\n",
    "### Research Question 1 (Is the medical Condition affect Patients arrival  ?) \n",
    "\n",
    "The first research question will discuess if there is a relationship between Patient medical conditions and the patient arrival to their appoitment. We will see wether these conditions have impact in the patients' behavior of arriving to their appointments.\n",
    "\n",
    "The mddical condition as mentioned in the dataset are : Hypertension, Diabetes, Alcoholism, Handicap.\n"
   ]
  },
  {
   "cell_type": "code",
   "execution_count": 28,
   "metadata": {},
   "outputs": [
    {
     "name": "stdout",
     "output_type": "stream",
     "text": [
      "The arrival for hypertension patients are: \n",
      "\n",
      "Present    0.826972\n",
      "Absent     0.173028\n",
      "Name: attendance, dtype: float64\n",
      "\n",
      "\n",
      "The arrival for patients with no-hypertension are: \n",
      "\n",
      "Present    0.790985\n",
      "Absent     0.209015\n",
      "Name: attendance, dtype: float64\n"
     ]
    }
   ],
   "source": [
    "# See if Present/absences percentages of the appointments related to hypertensionn patient\n",
    "\n",
    "hypertension_attendance = df[df.hypertension == 1].attendance.value_counts()\\\n",
    "                                       / df[df.hypertension == 1].attendance.value_counts().sum()\n",
    "non_hypertension_attendance = df[df.hypertension == 0].attendance.value_counts() \\\n",
    "                                          / df[df.hypertension == 0].attendance.value_counts().sum()\n",
    "\n",
    "# Printing the result\n",
    "print(\"The arrival for hypertension patients are: \\n\\n\"+ str(hypertension_attendance))\n",
    "print('\\n')\n",
    "print(\"The arrival for patients with no-hypertension are: \\n\\n\"+ str(non_hypertension_attendance))"
   ]
  },
  {
   "cell_type": "markdown",
   "metadata": {},
   "source": [
    "From the result , we can see a very slight increase about **3%** in the arrival % of hypertension patients. \n",
    "\n",
    "This small percentage doesn't reflect an actual influence in the patients' arrival decision."
   ]
  },
  {
   "cell_type": "code",
   "execution_count": 29,
   "metadata": {},
   "outputs": [
    {
     "name": "stdout",
     "output_type": "stream",
     "text": [
      "The arrival of diabetics  are : \n",
      "\n",
      "Present    0.819967\n",
      "Absent     0.180033\n",
      "Name: attendance, dtype: float64\n",
      "\n",
      "\n",
      "The arrival of non-diabetics  are: \n",
      "\n",
      "Present    0.796389\n",
      "Absent     0.203611\n",
      "Name: attendance, dtype: float64\n"
     ]
    }
   ],
   "source": [
    "# See if Present/absences percentages of the appointments related to diabetes Patient\n",
    "\n",
    "diabetic_attendance= df[df.diabetes == 1].attendance.value_counts() / \\\n",
    "                                   df[df.diabetes == 1].attendance.value_counts().sum()\n",
    "non_diabetic_attendance = df[df.diabetes == 0].attendance.value_counts() / \\\n",
    "                                      df[df.diabetes == 0].attendance.value_counts().sum()\n",
    "\n",
    "# Printing the result\n",
    "print(\"The arrival of diabetics  are : \\n\\n\"+ str(diabetic_attendance))\n",
    "print('\\n')\n",
    "print(\"The arrival of non-diabetics  are: \\n\\n\"+ str(non_diabetic_attendance))\n"
   ]
  },
  {
   "cell_type": "markdown",
   "metadata": {},
   "source": [
    "The diabetics arrival has **2%** rate increase more than non-diabetics \n",
    "\n",
    ", so we conclued that the diabetes is not a reason that affect the patient arrival behaviour.\n"
   ]
  },
  {
   "cell_type": "code",
   "execution_count": 30,
   "metadata": {},
   "outputs": [
    {
     "name": "stdout",
     "output_type": "stream",
     "text": [
      "The arrival of handicap patients are: \n",
      "\n",
      "Present    0.821884\n",
      "Absent     0.178116\n",
      "Name: attendance, dtype: float64\n",
      "\n",
      "\n",
      "The arrival of patients with No-handicap are: \n",
      "\n",
      "Present    0.797643\n",
      "Absent     0.202357\n",
      "Name: attendance, dtype: float64\n"
     ]
    }
   ],
   "source": [
    "# See if Present/absences percentages of the appointments related to people suffering from some handicap\n",
    "\n",
    "handicap_arrival = df[df.handicap == 1].attendance.value_counts() / \\\n",
    "                                   df[df.handicap == 1].attendance.value_counts().sum()\n",
    "\n",
    "non_handicap_arrival = df[df.handicap == 0].attendance.value_counts() / \\\n",
    "                                     df[df.handicap == 0].attendance.value_counts().sum()\n",
    "\n",
    "\n",
    "# Printing out the information\n",
    "print(\"The arrival of handicap patients are: \\n\\n\"+ str(handicap_arrival))\n",
    "print('\\n')\n",
    "print(\"The arrival of patients with No-handicap are: \\n\\n\" + str(non_handicap_arrival))"
   ]
  },
  {
   "cell_type": "markdown",
   "metadata": {},
   "source": [
    "The arrival of Patients with some kind of handicap have only increased with approximetly **2%**. \n",
    "\n",
    "This slight % doesn't indicates any kind of correlation between handicap and appointment show-up."
   ]
  },
  {
   "cell_type": "code",
   "execution_count": 31,
   "metadata": {},
   "outputs": [
    {
     "name": "stdout",
     "output_type": "stream",
     "text": [
      "The arrival of alcoholism patient are: \n",
      "\n",
      "Present    0.798512\n",
      "Absent     0.201488\n",
      "Name: attendance, dtype: float64\n",
      "\n",
      "\n",
      "The arrival of not-alcoholism are: \n",
      "\n",
      "Present    0.79807\n",
      "Absent     0.20193\n",
      "Name: attendance, dtype: float64\n"
     ]
    }
   ],
   "source": [
    "# See if Present/absences percentages of the appointments related to people suffering from alcoholism\n",
    "\n",
    "\n",
    "alcoholism_attendance = df[df.alcoholism == 1].attendance.value_counts() / \\\n",
    "                                   df[df.alcoholism == 1].attendance.value_counts().sum()\n",
    "\n",
    "not_alcoholism_attendance = df[df.alcoholism == 0].attendance.value_counts() / \\\n",
    "                                     df[df.alcoholism == 0].attendance.value_counts().sum()\n",
    "\n",
    "# Printing the result\n",
    "print(\"The arrival of alcoholism patient are: \\n\\n\"+ str(alcoholism_attendance))\n",
    "print('\\n')\n",
    "print(\"The arrival of not-alcoholism are: \\n\\n\"+ str(not_alcoholism_attendance))"
   ]
  },
  {
   "cell_type": "markdown",
   "metadata": {},
   "source": [
    "Last , The difference between patients who are alcoholics and those who aren't,its almost nothings.very small diffrence that doesn't count ! I thought it will be a big diffrences but its the oppsite **The diffrence is :0.00044 %** .\n",
    "\n",
    "This result indicates that probably there is no relation b\\w alcoholism and the appoinment arrival"
   ]
  },
  {
   "cell_type": "code",
   "execution_count": 32,
   "metadata": {},
   "outputs": [
    {
     "data": {
      "text/plain": [
       "Text(0, 0.5, 'Patient medical conditions')"
      ]
     },
     "execution_count": 32,
     "metadata": {},
     "output_type": "execute_result"
    },
    {
     "data": {
      "image/png": "[encoded data removed]",
      "text/plain": [
       "<Figure size 432x288 with 1 Axes>"
      ]
     },
     "metadata": {
      "needs_background": "light"
     },
     "output_type": "display_data"
    }
   ],
   "source": [
    "# For better represention of the ratios of present \\absent for diffrent medical conditions.\n",
    "#I Create bar plot with the different possible categories of conditions in the X axis\n",
    "#, and the percentage values on the Y axis.\n",
    "# but first , I have to create DataFrame contain all the factors then I will craete the graph\n",
    "\n",
    "pd.DataFrame([hypertension_attendance, non_hypertension_attendance, \n",
    "            handicap_arrival, non_handicap_arrival ,\n",
    "             diabetic_attendance, non_diabetic_attendance,\n",
    "            alcoholism_attendance, not_alcoholism_attendance], \n",
    "             index = ['No_Hypertension', 'Hypertension', 'No_Diabetes', 'Diabetes', \n",
    "                      'No_Alcoholism ', 'Alcoholism ', 'No_Handicap ', 'Handicap']\n",
    "            ).plot.barh(stacked = True , title='Medical conditions vs Patient Arrival')\n",
    "\n",
    "plt.xlim(0.0, 1.0)\n",
    "\n",
    "plt.xlabel(\"Percentage %\")\n",
    "plt.ylabel(\"Patient medical conditions\")"
   ]
  },
  {
   "cell_type": "markdown",
   "metadata": {},
   "source": [
    "From the above graph , we can say that the Pateient medical condition doesn't appear to have a significant affect the attendance behaviour of patients."
   ]
  },
  {
   "cell_type": "markdown",
   "metadata": {},
   "source": [
    "### Research Question 2  (Are Female care about their health more than Male ? Are they show-up for their appointments more than men ? )"
   ]
  },
  {
   "cell_type": "code",
   "execution_count": 33,
   "metadata": {},
   "outputs": [
    {
     "data": {
      "image/png": "[encoded data removed]",
      "text/plain": [
       "<Figure size 432x288 with 1 Axes>"
      ]
     },
     "metadata": {
      "needs_background": "light"
     },
     "output_type": "display_data"
    }
   ],
   "source": [
    "\n",
    "# Create Function for bar plot that count the number of Present\\ Absence for both Gender.\n",
    "\n",
    "def plot_bar(variable):\n",
    "    df.groupby([variable, 'attendance']).count()['age'].plot(kind='bar')\n",
    "    \n",
    "    plt.title('Patient Attendance vs Gender')\n",
    "    plt.xlabel(variable)\n",
    "    plt.ylabel('No. of Patient');\n",
    "\n",
    "plot_bar('gender')"
   ]
  },
  {
   "cell_type": "code",
   "execution_count": 34,
   "metadata": {},
   "outputs": [
    {
     "data": {
      "image/png": "[encoded data removed]",
      "text/plain": [
       "<Figure size 504x504 with 1 Axes>"
      ]
     },
     "metadata": {},
     "output_type": "display_data"
    }
   ],
   "source": [
    "# Create function for pie chart to show the ratios\n",
    "\n",
    "def plot_pie(variable):\n",
    "    df.groupby([variable, 'attendance']).count()['age'].plot(figsize=(7,7),kind='pie',autopct='%1.1f%%')\n",
    "    plt.ylabel('');\n",
    " \n",
    "plt.title('Percentage of Gender Present')\n",
    "plot_pie('gender')"
   ]
  },
  {
   "cell_type": "markdown",
   "metadata": {},
   "source": [
    "From the above findings , \n",
    "\n",
    "\n",
    "the % of female presents has a big diffrence with 38.6%. In the other side, men have higher percentage of absents 28%> 7% absent of women, wich proved that Female take care of their health more than male , we can say women have commitment to attende their appointments more than men."
   ]
  },
  {
   "cell_type": "markdown",
   "metadata": {},
   "source": [
    "### Research Question 3  (Are the Scholarship funds influence the patient show-up ?  )"
   ]
  },
  {
   "cell_type": "code",
   "execution_count": 35,
   "metadata": {},
   "outputs": [
    {
     "data": {
      "text/html": [
       "<div>\n",
       "<style scoped>\n",
       "    .dataframe tbody tr th:only-of-type {\n",
       "        vertical-align: middle;\n",
       "    }\n",
       "\n",
       "    .dataframe tbody tr th {\n",
       "        vertical-align: top;\n",
       "    }\n",
       "\n",
       "    .dataframe thead th {\n",
       "        text-align: right;\n",
       "    }\n",
       "</style>\n",
       "<table border=\"1\" class=\"dataframe\">\n",
       "  <thead>\n",
       "    <tr style=\"text-align: right;\">\n",
       "      <th>attendance</th>\n",
       "      <th>Absent</th>\n",
       "      <th>Present</th>\n",
       "    </tr>\n",
       "    <tr>\n",
       "      <th>scholarship</th>\n",
       "      <th></th>\n",
       "      <th></th>\n",
       "    </tr>\n",
       "  </thead>\n",
       "  <tbody>\n",
       "    <tr>\n",
       "      <th>0</th>\n",
       "      <td>0.198053</td>\n",
       "      <td>0.801947</td>\n",
       "    </tr>\n",
       "    <tr>\n",
       "      <th>1</th>\n",
       "      <td>0.237363</td>\n",
       "      <td>0.762637</td>\n",
       "    </tr>\n",
       "  </tbody>\n",
       "</table>\n",
       "</div>"
      ],
      "text/plain": [
       "attendance     Absent   Present\n",
       "scholarship                    \n",
       "0            0.198053  0.801947\n",
       "1            0.237363  0.762637"
      ]
     },
     "execution_count": 35,
     "metadata": {},
     "output_type": "execute_result"
    }
   ],
   "source": [
    "#First , find the number of patients that receive/or not scholarship only in relation to the 'attendance' variable\n",
    "# Group scholarship and attendance so, I can sount the number of absent and present.\n",
    "\n",
    "scholarship_count = df.groupby(['scholarship', 'attendance'])['scholarship'].count().unstack('attendance')\n",
    "\n",
    "#I will convert the number of patients who present/absent to percentages of the total\n",
    "\n",
    "scholarship_count.apply(lambda row: row / row.sum(), axis = 1)"
   ]
  },
  {
   "cell_type": "markdown",
   "metadata": {},
   "source": [
    "The 0 - represent patient with no scholarship\n",
    "\n",
    "\n",
    "the 1 - represent patient with scholarship"
   ]
  },
  {
   "cell_type": "code",
   "execution_count": 36,
   "metadata": {},
   "outputs": [
    {
     "data": {
      "text/plain": [
       "Text(0.5, 0, 'Scholarship received')"
      ]
     },
     "execution_count": 36,
     "metadata": {},
     "output_type": "execute_result"
    },
    {
     "data": {
      "image/png": "[encoded data removed]",
      "text/plain": [
       "<Figure size 432x288 with 1 Axes>"
      ]
     },
     "metadata": {
      "needs_background": "light"
     },
     "output_type": "display_data"
    }
   ],
   "source": [
    "#Create bar chart to show the percentage\n",
    "\n",
    "scholarship_count.apply(lambda row: row / row.sum(), axis = 1).plot(kind='bar')\n",
    "\n",
    "plt.title('Scolarship vs Patient Arrival')\n",
    "plt.ylabel(\"attendance ratios\")\n",
    "plt.xlabel(\"Scholarship received\")"
   ]
  },
  {
   "cell_type": "markdown",
   "metadata": {},
   "source": [
    "The answer for this question is No , the Scholarship doesn't influance the patient presence to their appoitment.\n",
    "\n",
    "This result shows that the percentage of patients who are on scholarship are more likely to skip their appointments rather than come with diffrence of **4%** and those patient who didn't enroll on the scholarship are more likely to attend their appoitment.\n",
    "\n"
   ]
  },
  {
   "cell_type": "markdown",
   "metadata": {},
   "source": [
    "### Research Question 4 (Does the age impact the patient presence for their Appointments?)"
   ]
  },
  {
   "cell_type": "code",
   "execution_count": 37,
   "metadata": {},
   "outputs": [
    {
     "data": {
      "image/png": "[encoded data removed]",
      "text/plain": [
       "<Figure size 432x288 with 1 Axes>"
      ]
     },
     "metadata": {
      "needs_background": "light"
     },
     "output_type": "display_data"
    }
   ],
   "source": [
    "# I will assign value to present and Absent , so I can call it when I create the graph\n",
    "\n",
    "Present = df.attendance == 'Present'\n",
    "Absent = df.attendance == 'Absent'\n",
    "\n",
    "\n",
    "df.age[Absent].hist(alpha = 0.5, label = 'Absent', color='red')\n",
    "df.age[Present].hist(alpha = 0.5, label = 'Present', color='black')\n",
    "\n",
    "plt.title(\"Age vs Patient Arrival\")\n",
    "plt.ylabel(\"attendance number\")\n",
    "plt.xlabel(\"Age\")\n",
    "plt.legend();"
   ]
  },
  {
   "cell_type": "markdown",
   "metadata": {},
   "source": [
    "In general , its good that the number of present exceed the absent.\n",
    "\n",
    "\n",
    "Althogh , no. of absent starts with high numbers from 0 age till the 40s.\" They more likely to not attend\"\n",
    "\n",
    "\n",
    " then the numbers starts slightly to drop till the 80s.\n",
    " \n",
    " \n",
    " from 80-102 the number of absent is very small.\n",
    " \n",
    " so , yes I think age affect the patient presence."
   ]
  },
  {
   "cell_type": "markdown",
   "metadata": {},
   "source": [
    "### Research Question 5  ( Is receiving SMS reminder has relationship with the patient Absence?)"
   ]
  },
  {
   "cell_type": "code",
   "execution_count": 38,
   "metadata": {},
   "outputs": [
    {
     "data": {
      "image/png": "[encoded data removed]",
      "text/plain": [
       "<Figure size 432x288 with 1 Axes>"
      ]
     },
     "metadata": {
      "needs_background": "light"
     },
     "output_type": "display_data"
    }
   ],
   "source": [
    "# I alredy define the Absent\\ present in the previous steps .\n",
    "#So , I will call it directly\n",
    "\n",
    "df.sms_received[Absent].hist(alpha = 0.5, label = 'Absent', color='red')\n",
    "df.sms_received[Present].hist(alpha = 0.5, label = 'Present', color='blue')\n",
    "\n",
    "plt.title('SMS Recived vs Patient Show-up')\n",
    "plt.xlabel(\"SMS Received\")\n",
    "plt.ylabel(\"Number of Present\\Absent\")\n",
    "plt.legend();"
   ]
  },
  {
   "cell_type": "markdown",
   "metadata": {},
   "source": [
    "From the above figure , we can see patient who didn't receive SMS appear to attend more than those who received.\n",
    "Even when the number of absent slightle more than those who receive , the number of show-up is more which is good."
   ]
  },
  {
   "cell_type": "markdown",
   "metadata": {},
   "source": [
    "<a id='conclusions'></a>\n",
    "## Conclusions\n",
    "\n",
    "In conclusion , based on the questions that have been studied the following points :\n",
    "\n",
    "\n",
    "**-** The medical conditions (Hypertension, Diabetes, Alcoholism, Handicap) didn't seem to have any significant influence on patient arrival rates.\n",
    "\n",
    "**-** The female are paying attention to their health more than male , which was very clearly from their present ratio.\n",
    "\n",
    "**-** Receiving The state scholarship funds didn't seem to have a major influence on patient arrival rates. In the other side, it needs to be mentioned that patients who are on scholarship are slightly less likely to attend their appointments.\n",
    "\n",
    "**-** The age of the patient , it might influence their attendance\n",
    "\n",
    "**-** Receiving SMS reminder has no big impact on the patient arrival.\n"
   ]
  },
  {
   "cell_type": "markdown",
   "metadata": {},
   "source": [
    "**Limittion conducted during the project :**\n",
    "\n",
    "\n",
    "1. Some of the data not cpmoleted such as the Appoitment time dimenion were set to 00:00:00\n",
    "2. Dropped some data entries because there is no sufficient explanation on some cases. For example, the negative age number ,and the there is missing range of ages b\\w 102-115 which makes a big diffrence.I had to exclude 6 data entries from the original dataset. original size 110527; new size: 110521\n",
    "3. I think we need more data and more factors to study , since some result not conivencing such as alcoholism don't effect the patient appearnce ! \n",
    "4. The quantitive chart such as scatter diagrams not used due to most of the data used in the analysis was categorical ,so bar chart ,pie chart for example was the best option to view data.\n",
    "5. There are more important factors to consider such as the insurance type and for people who doesn't have.\n",
    "\n",
    "\n",
    "    "
   ]
  },
  {
   "cell_type": "markdown",
   "metadata": {},
   "source": [
    "<a id='conclusions'></a>\n",
    "## Refrences \n",
    "To get more info about the data , I visit : https://www.kaggle.com/joniarroba/noshowappointments\n",
    "\n",
    "To search for some codes strcture :https://stackoverflow.com/\n",
    "\n",
    "To see the workflow of the project , I visit : https://github.com/search?p=9&q=Investigate+a+Dataset&type=Repositories"
   ]
  },
  {
   "cell_type": "code",
   "execution_count": null,
   "metadata": {},
   "outputs": [],
   "source": []
  }
 ],
 "metadata": {
  "kernelspec": {
   "display_name": "Python 3",
   "language": "python",
   "name": "python3"
  },
  "language_info": {
   "codemirror_mode": {
    "name": "ipython",
    "version": 3
   },
   "file_extension": ".py",
   "mimetype": "text/x-python",
   "name": "python",
   "nbconvert_exporter": "python",
   "pygments_lexer": "ipython3",
   "version": "3.7.6"
  }
 },
 "nbformat": 4,
 "nbformat_minor": 2
}
